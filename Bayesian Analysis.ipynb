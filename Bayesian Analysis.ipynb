{
 "cells": [
  {
   "cell_type": "code",
   "execution_count": null,
   "metadata": {},
   "outputs": [],
   "source": [
    "import pandas as pd\n",
    "import numpy as np\n",
    "import pymc3 as pm\n",
    "import arviz as az\n",
    "from arviz.plots.plot_utils import xarray_var_iter\n",
    "import theano\n",
    "import theano.tensor as tt\n",
    "from sklearn.preprocessing import PowerTransformer\n",
    "import matplotlib.pyplot as plt\n",
    "import seaborn as sns\n",
    "import xarray as xr\n",
    "\n",
    "%matplotlib inline\n",
    "\n",
    "RANDOM_SEED = 42"
   ]
  },
  {
   "cell_type": "code",
   "execution_count": null,
   "metadata": {},
   "outputs": [],
   "source": [
    "stockx_data = pd.read_csv('StockX-Data-Contest-2019-3.csv')"
   ]
  },
  {
   "cell_type": "code",
   "execution_count": null,
   "metadata": {},
   "outputs": [],
   "source": [
    "#Seeing how many rows/columns we're working with\n",
    "print(stockx_data.shape)"
   ]
  },
  {
   "cell_type": "code",
   "execution_count": null,
   "metadata": {},
   "outputs": [],
   "source": [
    "#Getting first glimpse at dataset\n",
    "stockx_data.head(10)"
   ]
  },
  {
   "cell_type": "code",
   "execution_count": null,
   "metadata": {},
   "outputs": [],
   "source": [
    "stockx_data.isna().sum()"
   ]
  },
  {
   "cell_type": "code",
   "execution_count": null,
   "metadata": {},
   "outputs": [],
   "source": [
    "stockx_data.dtypes"
   ]
  },
  {
   "cell_type": "code",
   "execution_count": null,
   "metadata": {},
   "outputs": [],
   "source": [
    "def cleanCurrency(series):\n",
    "    \"\"\"\n",
    "    Input: a dataframe series for currency (USD)\n",
    "    Output: cleaned series as a float\n",
    "    \"\"\"\n",
    "    #Replaces dollar sign and comma with empty string\n",
    "    series = series.str.replace('$', '', regex=True)\n",
    "    series = series.str.replace(',', '', regex=True)\n",
    "    series = series.astype(float)\n",
    "    return series"
   ]
  },
  {
   "cell_type": "code",
   "execution_count": null,
   "metadata": {},
   "outputs": [],
   "source": [
    "#Fix the Price fields to only be numeric\n",
    "stockx_data['Sale Price'] = cleanCurrency(stockx_data['Sale Price'])\n",
    "stockx_data['Retail Price'] = cleanCurrency(stockx_data['Retail Price'])\n",
    "\n",
    "#Calculate Profit by subtracting Sale from Retail\n",
    "stockx_data['Profit'] = stockx_data['Sale Price'] - stockx_data['Retail Price']"
   ]
  },
  {
   "cell_type": "code",
   "execution_count": null,
   "metadata": {},
   "outputs": [],
   "source": [
    "#Cleaning Sneaker Name column by removing hyphens\n",
    "stockx_data['Sneaker Name'] = stockx_data['Sneaker Name'].str.replace('-', '')\n",
    "\n",
    "#Making brand name a little more descriptive\n",
    "stockx_data['Brand'] = stockx_data['Brand'].str.replace('Yeezy', 'Yeezy (Adidas)')\n",
    "stockx_data['Brand'] = stockx_data['Brand'].str.replace('Off-White', 'Off-White (Nike)')\n",
    "\n",
    "#Getting only 'object' dtype columns and then stripping trailing white spaces\n",
    "stockx_data_obj = stockx_data.select_dtypes(['object'])\n",
    "stockx_data[stockx_data_obj.columns] = stockx_data_obj.apply(lambda x: x.str.strip())"
   ]
  },
  {
   "cell_type": "code",
   "execution_count": null,
   "metadata": {},
   "outputs": [],
   "source": [
    "#Ensure date fields are the right dtype\n",
    "stockx_data['Order Date'] = pd.to_datetime(stockx_data['Order Date'])\n",
    "stockx_data['Release Date'] = pd.to_datetime(stockx_data['Release Date'])\n",
    "\n",
    "#Calculate Duration of Days from Release Date to Order Date\n",
    "stockx_data['Duration (days)'] = stockx_data['Order Date'] - stockx_data['Release Date']"
   ]
  },
  {
   "cell_type": "code",
   "execution_count": null,
   "metadata": {},
   "outputs": [],
   "source": [
    "#Univariate stats on the numeric measures\n",
    "stockx_data.describe()"
   ]
  },
  {
   "cell_type": "code",
   "execution_count": null,
   "metadata": {},
   "outputs": [],
   "source": [
    "print(stockx_data['Order Date'].min(), stockx_data['Order Date'].max())"
   ]
  },
  {
   "cell_type": "code",
   "execution_count": null,
   "metadata": {},
   "outputs": [],
   "source": [
    "transformer = PowerTransformer()\n",
    "\n",
    "stockx_data['Profit_transformed'] = transformer.fit_transform(stockx_data['Profit'].values.reshape(-1, 1))"
   ]
  },
  {
   "cell_type": "code",
   "execution_count": null,
   "metadata": {},
   "outputs": [],
   "source": [
    "#Grouping by Brand to see how the general distribution of sales are\n",
    "brand_group = pd.DataFrame(stockx_data.groupby('Brand').size(), columns=['values']).reset_index().sort_values('values', ascending=False)\n",
    "brand_group['values'] = brand_group['values'].astype(int)\n",
    "plt.figure(figsize=(16, 8))\n",
    "plt.rcParams.update({'font.size': 10})\n",
    "ax = sns.barplot(x=brand_group['Brand'], y=brand_group['values'], data=brand_group, hue='Brand', palette=\"icefire\")\n",
    "ax.set(ylabel='Number of Shoes')\n",
    "plt.show()"
   ]
  },
  {
   "cell_type": "code",
   "execution_count": null,
   "metadata": {},
   "outputs": [],
   "source": [
    "# plt.figure(figsize=(16, 8))\n",
    "# plt.rcParams.update({'font.size': 10})\n",
    "# ax = sns.boxplot(x=brand_group['Brand'], y=brand_group['values'], data=brand_group, hue=['Brand'], palette=\"icefire\")\n",
    "# ax.set(ylabel='Number of Shoes')\n",
    "# plt.show()"
   ]
  },
  {
   "cell_type": "code",
   "execution_count": null,
   "metadata": {},
   "outputs": [],
   "source": [
    "#Grouping by Sneaker Name to see how the general distribution of ratings are\n",
    "sneaker_group = pd.DataFrame(stockx_data.groupby(['Brand', 'Sneaker Name']).size(), columns=['values']).reset_index().sort_values('values', ascending=False)\n",
    "sneaker_group['values'] = sneaker_group['values'].astype(int)\n",
    "plt.figure(figsize=(20, 8))\n",
    "plt.rcParams.update({'font.size': 10})\n",
    "ax = sns.barplot(x=sneaker_group['Sneaker Name'], y=sneaker_group['values'], data=sneaker_group, hue='Brand', palette=\"icefire\")\n",
    "ax.set(ylabel='Number of Shoes')\n",
    "plt.xticks(rotation=90)\n",
    "plt.show()"
   ]
  },
  {
   "cell_type": "code",
   "execution_count": null,
   "metadata": {},
   "outputs": [],
   "source": [
    "sneaker_group[:10]"
   ]
  },
  {
   "cell_type": "code",
   "execution_count": null,
   "metadata": {},
   "outputs": [],
   "source": [
    "#Grouping by Region to see how the general distribution of ratings are\n",
    "region_group = pd.DataFrame(stockx_data.groupby(['Buyer Region', 'Brand']).size(), columns=['values']).reset_index().sort_values(by='values', ascending=False)\n",
    "region_group['values'] = region_group['values'].astype(int)\n",
    "plt.figure(figsize=(20, 8))\n",
    "plt.rcParams.update({'font.size': 10})\n",
    "ax = sns.barplot(x=region_group['Buyer Region'], y=region_group['values'], data=region_group, hue='Brand', palette=\"icefire\")\n",
    "ax.set(ylabel='Number of Shoes')\n",
    "plt.xticks(rotation=90)\n",
    "plt.show()"
   ]
  },
  {
   "cell_type": "code",
   "execution_count": null,
   "metadata": {},
   "outputs": [],
   "source": [
    "region_group[:10]"
   ]
  },
  {
   "cell_type": "code",
   "execution_count": null,
   "metadata": {},
   "outputs": [],
   "source": [
    "order_group = pd.DataFrame(stockx_data.groupby(['Order Date', 'Brand']).size(), columns=['values']).reset_index().sort_values(by='values', ascending=False)\n",
    "order_group['values'] = order_group['values'].astype(int)\n",
    "fig, (ax1, ax2) = plt.subplots(2, 1, figsize=(20, 12))\n",
    "plt.rcParams.update({'font.size': 10})\n",
    "ax1 = sns.lineplot(x=order_group['Order Date'], y=order_group['values'], data=order_group, hue='Brand', palette=\"icefire\", ax=ax1)\n",
    "ax2 = sns.lineplot(x=stockx_data['Order Date'], y=stockx_data['Profit'], data=stockx_data, hue='Brand', palette=\"icefire\", ax=ax2)\n",
    "ax1.set(ylabel='Number of Shoes')\n",
    "plt.show()"
   ]
  },
  {
   "cell_type": "code",
   "execution_count": null,
   "metadata": {},
   "outputs": [],
   "source": [
    "sns.pairplot(stockx_data, diag_kind='kde', hue='Brand', palette='icefire'); "
   ]
  },
  {
   "cell_type": "code",
   "execution_count": null,
   "metadata": {},
   "outputs": [],
   "source": [
    "yeezy = stockx_data[stockx_data['Brand']=='Yeezy (Adidas)']\n",
    "offwhite = stockx_data[stockx_data['Brand']=='Off-White (Nike)']"
   ]
  },
  {
   "cell_type": "code",
   "execution_count": null,
   "metadata": {},
   "outputs": [],
   "source": [
    "fig, (ax1, ax2) = plt.subplots(1,2, figsize=(16, 8))\n",
    "\n",
    "ax1 = sns.histplot(yeezy['Profit'].values, kde=True, color='midnightblue', ax=ax1)\n",
    "ax2 = sns.histplot(offwhite['Profit'].values, kde=True, color='maroon', ax=ax2)\n",
    "\n",
    "ax1.set_title('Profit Distribution for Yeezy (Adidas) Products')\n",
    "ax2.set_title('Profit Distribution for Off-White (Nike) Products')\n",
    "\n",
    "plt.show()"
   ]
  },
  {
   "cell_type": "code",
   "execution_count": null,
   "metadata": {},
   "outputs": [],
   "source": [
    "fig, (ax1, ax2) = plt.subplots(1,2, figsize=(16, 8))\n",
    "\n",
    "ax1 = sns.histplot(yeezy['Retail Price'], kde=True, color='midnightblue', ax=ax1)\n",
    "ax2 = sns.histplot(offwhite['Retail Price'], kde=True, color='maroon', ax=ax2)\n",
    "\n",
    "ax1.set_title('Retail Price Distribution for Yeezy (Adidas) Products')\n",
    "ax2.set_title('Retail Price Distribution for Off-White (Nike) Products')\n",
    "\n",
    "plt.show()"
   ]
  },
  {
   "cell_type": "code",
   "execution_count": null,
   "metadata": {},
   "outputs": [],
   "source": [
    "fig, (ax1, ax2) = plt.subplots(1,2, figsize=(16, 8))\n",
    "\n",
    "ax1 = sns.histplot(yeezy['Profit_transformed'], kde=True, color='midnightblue', ax=ax1)\n",
    "ax2 = sns.histplot(offwhite['Profit_transformed'], kde=True, color='maroon', ax=ax2)\n",
    "\n",
    "ax1.set_title('Profit Distribution for Yeezy (Adidas) Products (transformed)')\n",
    "ax2.set_title('Profit Distribution for Off-White (Nike) Products (transformed)')\n",
    "\n",
    "plt.show()"
   ]
  },
  {
   "cell_type": "code",
   "execution_count": null,
   "metadata": {},
   "outputs": [],
   "source": [
    "yeezy['Profit'].mean(), offwhite['Profit'].mean()"
   ]
  },
  {
   "cell_type": "code",
   "execution_count": null,
   "metadata": {},
   "outputs": [],
   "source": [
    "yeezy['Profit_transformed'].mean(), offwhite['Profit_transformed'].mean()"
   ]
  },
  {
   "cell_type": "code",
   "execution_count": null,
   "metadata": {},
   "outputs": [],
   "source": [
    "with pm.Model() as model:\n",
    "    mu_offwhite = pm.Uniform('mu_offwhite', 0, 1000)\n",
    "    sigma_offwhite = pm.HalfNormal('sigma_offwhite', sd=10)\n",
    "    nu_offwhite = pm.Exponential('nu_offwhite', 1/30)\n",
    "    y_offwhite = pm.StudentT('y_offwhite', mu=mu_offwhite, sd=sigma_offwhite, nu=nu_offwhite,\n",
    "                             observed=offwhite['Profit'])\n",
    "\n",
    "    mu_yeezy = pm.Uniform('mu_yeezy', 0, 500)\n",
    "    sigma_yeezy = pm.HalfNormal('sigma_yeezy', sd=10)\n",
    "    nu_yeezy = pm.Exponential('nu_yeezy', 1/30)\n",
    "    y_yeezy = pm.StudentT('y_yeezy', mu=mu_yeezy, sd=sigma_yeezy, nu=nu_yeezy,\n",
    "                        observed=yeezy['Profit'])\n",
    "    \n",
    "pm.model_to_graphviz(model)"
   ]
  },
  {
   "cell_type": "code",
   "execution_count": null,
   "metadata": {},
   "outputs": [],
   "source": [
    "with model:\n",
    "    start = pm.find_MAP()\n",
    "    trace = pm.sample(10000, tune=2000, target_accept=.9, return_inferencedata=True, random_seed=RANDOM_SEED)"
   ]
  },
  {
   "cell_type": "code",
   "execution_count": null,
   "metadata": {},
   "outputs": [],
   "source": [
    "var_names = ['mu_offwhite', 'sigma_offwhite', 'mu_yeezy', 'sigma_yeezy']\n",
    "lines = list(xarray_var_iter(trace.posterior[var_names].mean(dim=(\"chain\", \"draw\"))))\n",
    "az.plot_trace(trace, var_names=var_names, lines=lines);"
   ]
  },
  {
   "cell_type": "code",
   "execution_count": null,
   "metadata": {},
   "outputs": [],
   "source": [
    "lines = list(xarray_var_iter(trace.posterior[['nu_offwhite', 'nu_yeezy']].mean(dim=(\"chain\", \"draw\"))))\n",
    "az.plot_trace(trace, var_names=['nu_offwhite', 'nu_yeezy'], lines=lines);"
   ]
  },
  {
   "cell_type": "code",
   "execution_count": null,
   "metadata": {},
   "outputs": [],
   "source": [
    "with model:\n",
    "    prior_checks = pm.sample_prior_predictive(random_seed=RANDOM_SEED)\n",
    "    idata_prior = az.from_pymc3(prior=prior_checks)"
   ]
  },
  {
   "cell_type": "code",
   "execution_count": null,
   "metadata": {},
   "outputs": [],
   "source": [
    "fig, (ax1, ax2) = plt.subplots(1, 2, figsize=(16,8))\n",
    "ax1 = az.plot_dist(idata_prior.prior['mu_yeezy'], kind='kde', rug=True, \n",
    "                   quantiles=[.25, .5, .75], color='midnightblue', ax=ax1)\n",
    "ax2 = az.plot_dist(idata_prior.prior['mu_offwhite'], kind='kde', rug=True,\n",
    "                   quantiles=[.25, .5, .75], color='maroon', ax=ax2)\n",
    "\n",
    "ax1.set_title('Prior Distribution for mu_yeezy')\n",
    "ax2.set_title('Prior Distribution for mu_offwhite')\n",
    "\n",
    "plt.show()"
   ]
  },
  {
   "cell_type": "code",
   "execution_count": null,
   "metadata": {},
   "outputs": [],
   "source": [
    "fig, (ax1, ax2) = plt.subplots(1, 2, figsize=(16,8))\n",
    "\n",
    "ax1 = az.plot_dist(idata_prior.prior['sigma_yeezy'], kind='kde', rug=True, \n",
    "                   quantiles=[.25, .5, .75], color='midnightblue', ax=ax1)\n",
    "ax2 = az.plot_dist(idata_prior.prior['sigma_offwhite'], kind='kde', rug=True,\n",
    "                   quantiles=[.25, .5, .75], color='maroon', ax=ax2)\n",
    "\n",
    "ax1.set_title('Prior Distribution for sigma_yeezy')\n",
    "ax2.set_title('Prior Distribution for sigma_offwhite')\n",
    "\n",
    "plt.show()"
   ]
  },
  {
   "cell_type": "code",
   "execution_count": null,
   "metadata": {},
   "outputs": [],
   "source": [
    "az.summary(trace)"
   ]
  },
  {
   "cell_type": "code",
   "execution_count": null,
   "metadata": {},
   "outputs": [],
   "source": [
    "with model:\n",
    "    ppc = pm.sample_posterior_predictive(trace, var_names=var_names+['y_offwhite', 'y_yeezy'], random_seed=RANDOM_SEED)\n"
   ]
  },
  {
   "cell_type": "code",
   "execution_count": null,
   "metadata": {},
   "outputs": [],
   "source": [
    "az.plot_ppc(az.from_pymc3(posterior_predictive=ppc, model=model));"
   ]
  },
  {
   "cell_type": "code",
   "execution_count": null,
   "metadata": {},
   "outputs": [],
   "source": [
    "fig, (ax1,ax2) = plt.subplots(1,2, figsize=(10, 5))\n",
    "ax1.hist([y.mean() for y in ppc['y_yeezy']], bins=19, alpha=0.5, color='midnightblue')\n",
    "ax2.hist([y.mean() for y in ppc['y_offwhite']], bins=19, alpha=0.5, color='maroon')\n",
    "ax1.axvline(yeezy['Profit'].mean(), color='r')\n",
    "ax2.axvline(offwhite['Profit'].mean(), color='r')\n",
    "for ax in [ax1, ax2]:\n",
    "    ax.set(xlabel='x', ylabel='')\n",
    "ax1.set_title('Posterior Predictive Check for y_yeezy')\n",
    "ax2.set_title('Posterior Predictive Check for y_offwhite');"
   ]
  },
  {
   "cell_type": "code",
   "execution_count": null,
   "metadata": {},
   "outputs": [],
   "source": [
    "yeezy['Profit'].std()"
   ]
  },
  {
   "cell_type": "code",
   "execution_count": null,
   "metadata": {},
   "outputs": [],
   "source": [
    "with model:\n",
    "    diff_means = pm.Deterministic('means difference', mu_yeezy-mu_offwhite)\n",
    "    diff_std = pm.Deterministic('stds difference', sigma_yeezy-sigma_offwhite)\n",
    "    effect_size = pm.Deterministic('effect size (cohens d)', diff_means/np.sqrt((yeezy['Profit'].std() ** 2 + offwhite['Profit'].std() ** 2) / 2))\n",
    "    "
   ]
  },
  {
   "cell_type": "code",
   "execution_count": null,
   "metadata": {},
   "outputs": [],
   "source": [
    "with model:\n",
    "    trace = pm.sample(5000, return_inferencedata=True, random_seed=RANDOM_SEED)"
   ]
  },
  {
   "cell_type": "code",
   "execution_count": null,
   "metadata": {},
   "outputs": [],
   "source": [
    "pm.plot_posterior(trace, var_names=['mu_yeezy', 'mu_offwhite', 'sigma_yeezy', 'sigma_offwhite'], color='#87ceeb');"
   ]
  },
  {
   "cell_type": "code",
   "execution_count": null,
   "metadata": {},
   "outputs": [],
   "source": [
    "pm.plot_posterior(trace, var_names=['means difference', 'stds difference', 'effect size (cohens d)'], ref_val=0, color='#87ceeb');"
   ]
  },
  {
   "cell_type": "code",
   "execution_count": null,
   "metadata": {},
   "outputs": [],
   "source": [
    "az.summary(trace, var_names=['means difference', 'stds difference', 'effect size (cohens d)'])"
   ]
  }
 ],
 "metadata": {
  "kernelspec": {
   "display_name": "Python 3",
   "language": "python",
   "name": "python3"
  },
  "language_info": {
   "codemirror_mode": {
    "name": "ipython",
    "version": 3
   },
   "file_extension": ".py",
   "mimetype": "text/x-python",
   "name": "python",
   "nbconvert_exporter": "python",
   "pygments_lexer": "ipython3",
   "version": "3.8.8"
  }
 },
 "nbformat": 4,
 "nbformat_minor": 4
}
